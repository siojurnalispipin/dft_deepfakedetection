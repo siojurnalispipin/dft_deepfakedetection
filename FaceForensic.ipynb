{
 "cells": [
  {
   "cell_type": "markdown",
   "source": [
    "## FaceForensics++"
   ],
   "metadata": {}
  },
  {
   "cell_type": "markdown",
   "source": [
    "In this notebook we show the results for FaceForensics++. You can create from scratch the features or use the pre-computed ones."
   ],
   "metadata": {}
  },
  {
   "cell_type": "markdown",
   "source": [
    "### 1. Create feature"
   ],
   "metadata": {}
  },
  {
   "cell_type": "markdown",
   "source": [
    "If you want to create the features, first of all download the \"prepro_deepFake\" folder from [link](https://bit.ly/2wkPZYv). Be sure to save the folder together with this notebook. \n",
    "\n",
    "Otherwise, just jump to section 2."
   ],
   "metadata": {}
  },
  {
   "cell_type": "code",
   "execution_count": 20,
   "source": [
    "import cv2\r\n",
    "import numpy as np\r\n",
    "import os\r\n",
    "import radialProfile\r\n",
    "import glob\r\n",
    "from matplotlib import pyplot as plt\r\n",
    "import pickle\r\n",
    "from scipy.interpolate import griddata\r\n",
    "\r\n",
    "data= {}\r\n",
    "epsilon = 1e-8\r\n",
    "N = 300\r\n",
    "y = []\r\n",
    "error = []\r\n",
    "\r\n",
    "\r\n",
    "number_iter = 1600\r\n",
    "\r\n",
    "psd1D_total = np.zeros([number_iter, N])\r\n",
    "label_total = np.zeros([number_iter])\r\n",
    "psd1D_org_mean = np.zeros(N)\r\n",
    "psd1D_org_std = np.zeros(N)\r\n",
    "\r\n",
    "\r\n",
    "cont = 0\r\n",
    "\r\n",
    "#fake data\r\n",
    "rootdir = './prepro_deepFake/fake'\r\n",
    "\r\n",
    "for subdir, dirs, files in os.walk(rootdir):\r\n",
    "    for file in files:        \r\n",
    "\r\n",
    "        filename = os.path.join(subdir, file)\r\n",
    "        \r\n",
    "        img = cv2.imread(filename,0)\r\n",
    "        \r\n",
    "        # we crop the center\r\n",
    "        h = int(img.shape[0]/3)\r\n",
    "        w = int(img.shape[1]/3)\r\n",
    "        img = img[h:-h,w:-w]\r\n",
    "\r\n",
    "        f = np.fft.fft2(img)\r\n",
    "        fshift = np.fft.fftshift(f)\r\n",
    "\r\n",
    "        magnitude_spectrum = 20*np.log(np.abs(fshift))\r\n",
    "        psd1D = radialProfile.azimuthalAverage(magnitude_spectrum)\r\n",
    "\r\n",
    "        # Calculate the azimuthally averaged 1D power spectrum\r\n",
    "        points = np.linspace(0,N,num=psd1D.size) # coordinates of a\r\n",
    "        xi = np.linspace(0,N,num=N) # coordinates for interpolation\r\n",
    "\r\n",
    "        interpolated = griddata(points,psd1D,xi,method='cubic')\r\n",
    "        interpolated /= interpolated[0]\r\n",
    "\r\n",
    "        psd1D_total[cont,:] = interpolated             \r\n",
    "        label_total[cont] = 0\r\n",
    "        cont+=1\r\n",
    "\r\n",
    "        if cont == number_iter:\r\n",
    "            break\r\n",
    "    if cont == number_iter:\r\n",
    "        break\r\n",
    "            \r\n",
    "for x in range(N):\r\n",
    "    psd1D_org_mean[x] = np.mean(psd1D_total[:,x])\r\n",
    "    psd1D_org_std[x]= np.std(psd1D_total[:,x])\r\n",
    "\r\n",
    "\r\n",
    "## real data\r\n",
    "psd1D_total2 = np.zeros([number_iter, N])\r\n",
    "label_total2 = np.zeros([number_iter])\r\n",
    "psd1D_org_mean2 = np.zeros(N)\r\n",
    "psd1D_org_std2 = np.zeros(N)\r\n",
    "\r\n",
    "\r\n",
    "cont = 0\r\n",
    "rootdir2 = './prepro_deepFake/real'\r\n",
    "\r\n",
    "for subdir, dirs, files in os.walk(rootdir2):\r\n",
    "    for file in files:        \r\n",
    "\r\n",
    "        filename = os.path.join(subdir, file)\r\n",
    "        parts = filename.split(\"/\")\r\n",
    "   \r\n",
    "        img = cv2.imread(filename,0)\r\n",
    "    \r\n",
    "        # we crop the center\r\n",
    "        h = int(img.shape[0]/3)\r\n",
    "        w = int(img.shape[1]/3)\r\n",
    "        img = img[h:-h,w:-w]\r\n",
    "\r\n",
    "        f = np.fft.fft2(img)\r\n",
    "        fshift = np.fft.fftshift(f)\r\n",
    "        fshift += epsilon\r\n",
    "\r\n",
    "\r\n",
    "        magnitude_spectrum = 20*np.log(np.abs(fshift))\r\n",
    "\r\n",
    "        # Calculate the azimuthally averaged 1D power spectrum\r\n",
    "        psd1D = radialProfile.azimuthalAverage(magnitude_spectrum)\r\n",
    "\r\n",
    "        points = np.linspace(0,N,num=psd1D.size) # coordinates of a\r\n",
    "        xi = np.linspace(0,N,num=N) # coordinates for interpolation\r\n",
    "\r\n",
    "        interpolated = griddata(points,psd1D,xi,method='cubic')\r\n",
    "        interpolated /= interpolated[0]\r\n",
    "\r\n",
    "        psd1D_total2[cont,:] = interpolated             \r\n",
    "        label_total2[cont] = 1\r\n",
    "        cont+=1\r\n",
    "\r\n",
    "        if cont == number_iter:\r\n",
    "            break\r\n",
    "    if cont == number_iter:\r\n",
    "        break\r\n",
    "\r\n",
    "for x in range(N):\r\n",
    "    psd1D_org_mean2[x] = np.mean(psd1D_total2[:,x])\r\n",
    "    psd1D_org_std2[x]= np.std(psd1D_total2[:,x])\r\n",
    "    \r\n",
    "    \r\n",
    "y.append(psd1D_org_mean)\r\n",
    "y.append(psd1D_org_mean2)\r\n",
    "\r\n",
    "error.append(psd1D_org_std)\r\n",
    "error.append(psd1D_org_std2)\r\n",
    "\r\n",
    "psd1D_total_final = np.concatenate((psd1D_total,psd1D_total2), axis=0)\r\n",
    "label_total_final = np.concatenate((label_total,label_total2), axis=0)\r\n",
    "\r\n",
    "data[\"data\"] = psd1D_total_final\r\n",
    "data[\"label\"] = label_total_final\r\n",
    "\r\n",
    "output = open('train_3200.pkl', 'wb')\r\n",
    "pickle.dump(data, output)\r\n",
    "output.close()\r\n",
    "\r\n",
    "print(\"DATA Saved\") "
   ],
   "outputs": [
    {
     "output_type": "stream",
     "name": "stdout",
     "text": [
      "DATA Saved\n"
     ]
    }
   ],
   "metadata": {}
  },
  {
   "cell_type": "markdown",
   "source": [
    "### 2. Loading Features"
   ],
   "metadata": {}
  },
  {
   "cell_type": "markdown",
   "source": [
    "Now, we load the features. Either the pre-computed ones or the features that you have created."
   ],
   "metadata": {}
  },
  {
   "cell_type": "code",
   "execution_count": 21,
   "source": [
    "import numpy as np\r\n",
    "import matplotlib.pyplot as plt\r\n",
    "import pickle\r\n",
    "\r\n",
    "# load feature file\r\n",
    "pkl_file = open('train_3200.pkl', 'rb')\r\n",
    "data = pickle.load(pkl_file)\r\n",
    "pkl_file.close()\r\n",
    "X = data[\"data\"]\r\n",
    "y = data[\"label\"]\r\n",
    "print(\"Shape X: \", X.shape)"
   ],
   "outputs": [
    {
     "output_type": "stream",
     "name": "stdout",
     "text": [
      "Shape X:  (3200, 300)\n"
     ]
    }
   ],
   "metadata": {}
  },
  {
   "cell_type": "markdown",
   "source": [
    "We look at the label distribution, to be sure that we have a balanced dataset."
   ],
   "metadata": {}
  },
  {
   "cell_type": "code",
   "execution_count": 22,
   "source": [
    "plt.plot(y)"
   ],
   "outputs": [
    {
     "output_type": "execute_result",
     "data": {
      "text/plain": [
       "[<matplotlib.lines.Line2D at 0x1e7c48b6eb0>]"
      ]
     },
     "metadata": {},
     "execution_count": 22
    },
    {
     "output_type": "display_data",
     "data": {
      "text/plain": [
       "<Figure size 432x288 with 1 Axes>"
      ],
      "image/png": "[encoded data removed]"
     },
     "metadata": {
      "needs_background": "light"
     }
    }
   ],
   "metadata": {}
  },
  {
   "cell_type": "markdown",
   "source": [
    "### 3. Check Spectrum"
   ],
   "metadata": {}
  },
  {
   "cell_type": "markdown",
   "source": [
    "We havw a look to the spectrum"
   ],
   "metadata": {}
  },
  {
   "cell_type": "code",
   "execution_count": 23,
   "source": [
    "num = int(X.shape[0]/2)\r\n",
    "num_feat = X.shape[1]\r\n",
    "\r\n",
    "psd1D_org_0 = np.zeros((num,num_feat))\r\n",
    "psd1D_org_1 = np.zeros((num,num_feat))\r\n",
    "psd1D_org_0_mean = np.zeros(num_feat)\r\n",
    "psd1D_org_0_std = np.zeros(num_feat)\r\n",
    "psd1D_org_1_mean = np.zeros(num_feat)\r\n",
    "psd1D_org_1_std = np.zeros(num_feat)\r\n",
    "\r\n",
    "cont_0=0\r\n",
    "cont_1=0\r\n",
    "\r\n",
    "# We separate real and fake using the label\r\n",
    "for x in range(X.shape[0]):\r\n",
    "    if y[x]==0:\r\n",
    "        psd1D_org_0[cont_0,:] = X[x,:]\r\n",
    "        cont_0+=1\r\n",
    "    elif y[x]==1:\r\n",
    "        psd1D_org_1[cont_1,:] = X[x,:]\r\n",
    "        cont_1+=1\r\n",
    "\r\n",
    "# We compute statistcis\r\n",
    "for x in range(num_feat):\r\n",
    "    psd1D_org_0_mean[x] = np.mean(psd1D_org_0[:,x])\r\n",
    "    psd1D_org_0_std[x]= np.std(psd1D_org_0[:,x])\r\n",
    "    psd1D_org_1_mean[x] = np.mean(psd1D_org_1[:,x])\r\n",
    "    psd1D_org_1_std[x]= np.std(psd1D_org_1[:,x])\r\n",
    "    \r\n",
    "# Plot\r\n",
    "x = np.arange(0, num_feat, 1)\r\n",
    "fig, ax = plt.subplots(figsize=(15, 9))\r\n",
    "ax.plot(x, psd1D_org_0_mean, alpha=0.5, color='red', label='Fake', linewidth =2.0)\r\n",
    "ax.fill_between(x, psd1D_org_0_mean - psd1D_org_0_std, psd1D_org_0_mean + psd1D_org_0_std, color='red', alpha=0.2)\r\n",
    "ax.plot(x, psd1D_org_1_mean, alpha=0.5, color='blue', label='Real', linewidth =2.0)\r\n",
    "ax.fill_between(x, psd1D_org_1_mean - psd1D_org_1_std, psd1D_org_1_mean + psd1D_org_1_std, color='blue', alpha=0.2)\r\n",
    "plt.tick_params(axis='x', labelsize=20)\r\n",
    "plt.tick_params(axis='y', labelsize=20)\r\n",
    "ax.legend(loc='best', prop={'size': 20})\r\n",
    "plt.xlabel(\"Spatial Frequency\", fontsize=20)\r\n",
    "plt.ylabel(\"Power Spectrum\", fontsize=20)"
   ],
   "outputs": [
    {
     "output_type": "execute_result",
     "data": {
      "text/plain": [
       "Text(0, 0.5, 'Power Spectrum')"
      ]
     },
     "metadata": {},
     "execution_count": 23
    },
    {
     "output_type": "display_data",
     "data": {
      "text/plain": [
       "<Figure size 1080x648 with 1 Axes>"
      ],
      "image/png": "[encoded data removed]"
     },
     "metadata": {
      "needs_background": "light"
     }
    }
   ],
   "metadata": {}
  },
  {
   "cell_type": "markdown",
   "source": [
    "### 4. Classification"
   ],
   "metadata": {}
  },
  {
   "cell_type": "markdown",
   "source": [
    "Now we classify using the features."
   ],
   "metadata": {}
  },
  {
   "cell_type": "code",
   "execution_count": 24,
   "source": [
    "import numpy as np\r\n",
    "from sklearn.svm import SVC\r\n",
    "from sklearn.linear_model import LogisticRegression\r\n",
    "import pickle\r\n",
    "\r\n",
    "#train\r\n",
    "pkl_file = open('train_3200.pkl', 'rb')\r\n",
    "data = pickle.load(pkl_file)\r\n",
    "pkl_file.close()\r\n",
    "X = data[\"data\"]\r\n",
    "y = data[\"label\"]\r\n",
    "\r\n",
    "svclassifier_r = SVC(C=6.37, kernel='rbf', gamma=0.86)\r\n",
    "svclassifier_r.fit(X, y)\r\n",
    "logreg = LogisticRegression(solver='liblinear', max_iter=1000)\r\n",
    "logreg.fit(X, y)\r\n",
    "\r\n",
    "#test\r\n",
    "pkl_file = open('test_1000.pkl', 'rb')\r\n",
    "data = pickle.load(pkl_file)\r\n",
    "pkl_file.close()\r\n",
    "X_ = data[\"data\"]\r\n",
    "y_ = data[\"label\"]\r\n",
    "\r\n",
    "SVM = svclassifier_r.score(X_, y_)\r\n",
    "LR = logreg.score(X_, y_)\r\n",
    "\r\n",
    "\r\n",
    "print(\"SVM: \"+str(SVM))\r\n",
    "print(\"LR: \"+str(LR))"
   ],
   "outputs": [
    {
     "output_type": "stream",
     "name": "stdout",
     "text": [
      "SVM: 0.503\n",
      "LR: 0.5\n"
     ]
    }
   ],
   "metadata": {}
  },
  {
   "cell_type": "markdown",
   "source": [
    "Perhitungan ROC "
   ],
   "metadata": {}
  },
  {
   "cell_type": "code",
   "execution_count": 25,
   "source": [
    "#ROC Calculation\r\n",
    "from sklearn.metrics import roc_curve, auc\r\n",
    "print(\"Saving ROC Curve ...\")\r\n",
    "LR_probs = logreg.predict_proba(X_)\r\n",
    "fpr, tpr, _ = roc_curve(y_, LR_probs[:, 1])\r\n",
    "np.save('fpr', fpr)\r\n",
    "np.save('tpr', fpr)\r\n",
    "roc_auc = auc(fpr, tpr)\r\n",
    "plt.figure()\r\n",
    "plt.plot(fpr, tpr, color='darkorange',\r\n",
    "         label='ROC curve (area = %0.2f)' % roc_auc)\r\n",
    "plt.plot([0, 1], [0, 1], color='navy', linestyle='--')\r\n",
    "plt.xlim([0.0, 1.0])\r\n",
    "plt.ylim([0.0, 1.05])\r\n",
    "plt.xlabel('False Positive Rate')\r\n",
    "plt.ylabel('True Positive Rate')\r\n",
    "plt.title('Receiver operating characteristic example')\r\n",
    "plt.legend(loc=\"lower right\")\r\n",
    "plt.savefig(\"roc_curve.png\")\r\n"
   ],
   "outputs": [
    {
     "output_type": "stream",
     "name": "stdout",
     "text": [
      "Saving ROC Curve ...\n"
     ]
    },
    {
     "output_type": "display_data",
     "data": {
      "text/plain": [
       "<Figure size 432x288 with 1 Axes>"
      ],
      "image/png": "[encoded data removed]"
     },
     "metadata": {
      "needs_background": "light"
     }
    }
   ],
   "metadata": {}
  },
  {
   "cell_type": "code",
   "execution_count": 26,
   "source": [
    "np.save('fpr_karwoski', fpr)\r\n",
    "np.save('tpr_karwoski', tpr)\r\n",
    "LR_train = logreg.score(X, y)\r\n",
    "print(\"LR: \"+str(LR_train))\r\n"
   ],
   "outputs": [
    {
     "output_type": "stream",
     "name": "stdout",
     "text": [
      "LR: 0.9934375\n"
     ]
    }
   ],
   "metadata": {}
  }
 ],
 "metadata": {
  "kernelspec": {
   "display_name": "Python 3",
   "language": "python",
   "name": "python3"
  },
  "language_info": {
   "codemirror_mode": {
    "name": "ipython",
    "version": 3
   },
   "file_extension": ".py",
   "mimetype": "text/x-python",
   "name": "python",
   "nbconvert_exporter": "python",
   "pygments_lexer": "ipython3",
   "version": "3.6.7"
  }
 },
 "nbformat": 4,
 "nbformat_minor": 4
}